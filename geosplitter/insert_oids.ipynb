{
 "cells": [
  {
   "cell_type": "markdown",
   "id": "d475bf3e-02c9-465e-b80d-68ef5bdff56c",
   "metadata": {},
   "source": [
    "## Benötigte Pakete laden"
   ]
  },
  {
   "cell_type": "code",
   "execution_count": 1,
   "id": "0a2818b2-657c-4237-ba75-2ed408731d33",
   "metadata": {},
   "outputs": [],
   "source": [
    "import pandas as pd\n",
    "import geopandas as gpd\n",
    "import re"
   ]
  },
  {
   "cell_type": "markdown",
   "id": "2eb56e75-3485-461a-b288-0ea59f3ba368",
   "metadata": {},
   "source": [
    "## Übersicht über benötigte Dateien\n",
    "\n",
    "Annahme: alle relevanten Dateien liegen in dem Unterordner `data`:\n",
    "- `result.csv` (Quelle: https://open-data.bielefeld.de/dataset/a9442cf1-7f88-4d7e-9fb7-b2a294f533e7/resource/56450c7c-c359-43dd-91e1-14299141200e)\n",
    "- `trees.geojson` (privat)"
   ]
  },
  {
   "cell_type": "code",
   "execution_count": null,
   "id": "4b4b649f-0bfd-4a83-b854-0d9eb02209ef",
   "metadata": {},
   "outputs": [],
   "source": [
    "csv_file_path = 'data/result.csv'\n",
    "geojson_file_path = 'data/trees.geojson'"
   ]
  },
  {
   "cell_type": "markdown",
   "id": "9b8b380f-7b90-4955-b7a4-42600d1b4939",
   "metadata": {},
   "source": [
    "## Die Daten laden und miteinander vergleichen"
   ]
  },
  {
   "cell_type": "code",
   "execution_count": null,
   "id": "bb07bf88-ca9b-4696-a7c1-300221e841dd",
   "metadata": {},
   "outputs": [],
   "source": [
    "# csv als DataFrame laden\n",
    "df_oid = pd.read_csv(csv_file_path, sep=\";\") \n",
    "df_oid.head()"
   ]
  },
  {
   "cell_type": "code",
   "execution_count": null,
   "id": "f98fc372-ea53-442b-acf0-f383b27e62b7",
   "metadata": {},
   "outputs": [],
   "source": [
    "# geojson als DataFrame laden\n",
    "gdf = gpd.read_file(geojson_file_path)\n",
    "gdf.head()"
   ]
  },
  {
   "cell_type": "code",
   "execution_count": null,
   "id": "76511fef-a7b4-4366-9429-0dc1833bdf31",
   "metadata": {},
   "outputs": [],
   "source": [
    "# Anzahl der Einträge miteinander vergleichen\n",
    "print(f\"Anzahl der Einzelbäume in der 'result.csv': {df_oid.shape[0]}\")\n",
    "print(f\"Anzahl der Einzelbäume in der 'trees.geojson': {gdf.shape[0]}\")"
   ]
  },
  {
   "cell_type": "markdown",
   "id": "6d5bd66e-7150-4ab8-9cdb-b704dfbd7dcd",
   "metadata": {},
   "source": [
    "**Problem:** In der `trees.geojson` sind also mehr Einzelbäume enthalten, sodass wir zusätzliche OIDs generieren müssen!"
   ]
  },
  {
   "cell_type": "markdown",
   "id": "5fbdb034-ee38-4364-a2ba-389494a529c8",
   "metadata": {},
   "source": [
    "## Koordinaten im DataFrame und GeoDataFrame normalisieren"
   ]
  },
  {
   "cell_type": "markdown",
   "id": "7175825a-406e-4f68-8ed7-a1dacdb7af33",
   "metadata": {},
   "source": [
    "**Problem:** Die Koordinaten haben unterschiedlich viele Nachkommastellen, deswegen müssen wir sie normalisieren."
   ]
  },
  {
   "cell_type": "code",
   "execution_count": null,
   "id": "0fec7b28-7df4-4886-8ded-dd17aa1cf8dd",
   "metadata": {},
   "outputs": [],
   "source": [
    "def extract_and_round_coords(wkt, decimals=3):\n",
    "    match = re.search(r'POINT \\(([0-9.]+) ([0-9.]+)\\)', wkt)\n",
    "    if match:\n",
    "        x = round(float(match.group(1)), decimals)\n",
    "        y = round(float(match.group(2)), decimals)\n",
    "        return f\"{x} {y}\"\n",
    "    else:\n",
    "        return None \n",
    "\n",
    "df_oid['rounded_coords'] = df_oid['WKT'].apply(lambda x: extract_and_round_coords(x))\n",
    "df_oid[['WKT', 'rounded_coords']].head()"
   ]
  },
  {
   "cell_type": "code",
   "execution_count": null,
   "id": "382c7d1e-2927-4654-89b5-927f5be44730",
   "metadata": {},
   "outputs": [],
   "source": [
    "def round_coords(x, decimals=3):\n",
    "    try:\n",
    "        rounded_x = round(float(x.x), decimals)\n",
    "        rounded_y = round(float(x.y), decimals)\n",
    "        return f\"{rounded_x} {rounded_y}\"\n",
    "    except (OverflowError, ValueError) as e:\n",
    "        print(f\"Error rounding coordinates: {e}\")\n",
    "        return None\n",
    "        \n",
    "gdf['rounded_coords'] = gdf['geometry'].apply(lambda x: round_coords(x))\n",
    "gdf[['geometry', 'rounded_coords']].head()"
   ]
  },
  {
   "cell_type": "markdown",
   "id": "45e933be-c7db-480b-aefe-33e17a431680",
   "metadata": {},
   "source": [
    "## Die `OID`s in das GeoDataFrame einfügen"
   ]
  },
  {
   "cell_type": "code",
   "execution_count": null,
   "id": "d511b452-cc28-46b5-b44c-7407366e5d46",
   "metadata": {},
   "outputs": [],
   "source": [
    "# Merge das GeoDataFrame mit dem DataFrame, um OID einzufügen, anhand von 'rounded_coords', mittels einem Left Join\n",
    "gdf_merged = gdf.merge(df_oid[['rounded_coords', 'oid']], on='rounded_coords', how='left')\n",
    "gdf_merged.head()"
   ]
  },
  {
   "cell_type": "code",
   "execution_count": null,
   "id": "dcfe1de6-68eb-4eb6-90f8-34c308f6deaf",
   "metadata": {},
   "outputs": [],
   "source": [
    "# Zählen, wie viele Bäume noch keine OID erhalten haben\n",
    "gdf_merged['oid'].isna().sum()"
   ]
  },
  {
   "cell_type": "markdown",
   "id": "3d08c179-6379-4db0-b2a7-6e4d65fd0f06",
   "metadata": {},
   "source": [
    "## Für die nicht-gematchten Bäume `OID`s generieren"
   ]
  },
  {
   "cell_type": "code",
   "execution_count": null,
   "id": "9c3fde3f-d7c2-4e48-a909-6b2a5df7a0ee",
   "metadata": {},
   "outputs": [],
   "source": [
    "# Ermitteln der höchsten OID im DataFrame\n",
    "max_oid = df_oid['oid'].max()"
   ]
  },
  {
   "cell_type": "code",
   "execution_count": null,
   "id": "42e79774-8f66-4aed-9fc5-641e49ad5769",
   "metadata": {},
   "outputs": [],
   "source": [
    "# Bäume noch ohne OID identifizieren\n",
    "non_matching_gdf = gdf_merged[gdf_merged['oid'].isna()]\n",
    "\n",
    "# Fortlaufende OIDs zu den nicht übereinstimmenden Bäumen zuweisen\n",
    "non_matching_gdf = non_matching_gdf.reset_index(drop=True)\n",
    "non_matching_gdf['oid'] = non_matching_gdf.index + max_oid + 1"
   ]
  },
  {
   "cell_type": "code",
   "execution_count": null,
   "id": "c23db908-7174-4ad8-97da-9edcad4aa44b",
   "metadata": {},
   "outputs": [],
   "source": [
    "# Aktualisieren der OIDs in gdf_merged\n",
    "gdf_merged.loc[gdf_merged['oid'].isna(), 'oid'] = non_matching_gdf['oid'].values\n",
    "gdf_merged.head()"
   ]
  },
  {
   "cell_type": "code",
   "execution_count": null,
   "id": "9d868997-a08d-4dcc-a2fb-6ccb7154efee",
   "metadata": {},
   "outputs": [],
   "source": [
    "# Finaler Check: Zählen, wie viele Bäume noch keine OID erhalten haben\n",
    "gdf_merged['oid'].isna().sum()"
   ]
  },
  {
   "cell_type": "markdown",
   "id": "8ac5eb69-a4fc-429e-b329-69687d828e59",
   "metadata": {},
   "source": [
    "## Das GeoDataFrame aufräumen"
   ]
  },
  {
   "cell_type": "code",
   "execution_count": null,
   "id": "00ae8c58-c23c-4c22-bd8f-de575c306ff7",
   "metadata": {},
   "outputs": [],
   "source": [
    "# Entfernen der `rounded_coords`-Spalte\n",
    "gdf_merged = gdf_merged.drop(columns=['rounded_coords'], errors='ignore')\n",
    "gdf_merged.head()"
   ]
  },
  {
   "cell_type": "code",
   "execution_count": null,
   "id": "3d38ab34-2aaa-479c-bc19-423c50ceaee2",
   "metadata": {},
   "outputs": [],
   "source": [
    "# Setzen der `oid`-Spalte als erste Spalte\n",
    "cols = ['oid'] + [col for col in gdf_merged.columns if col != 'oid']\n",
    "gdf_merged = gdf_merged[cols]\n",
    "\n",
    "gdf_merged.head()"
   ]
  },
  {
   "cell_type": "code",
   "execution_count": null,
   "id": "859d48d5-bee8-4f58-af9f-6cedebc9ce07",
   "metadata": {},
   "outputs": [],
   "source": [
    "# Konvertieren der OID-Spalte in Ganzzahl, um Dezimalstellen zu vermeiden\n",
    "gdf_merged['oid'] = gdf_merged['oid'].astype(int)"
   ]
  },
  {
   "cell_type": "markdown",
   "id": "a6500fdc-0638-43c0-952c-9658ce3b9a7d",
   "metadata": {},
   "source": [
    "## Das GeoDataFrame als `geojson` speichern"
   ]
  },
  {
   "cell_type": "code",
   "execution_count": null,
   "id": "98b19fb2-9331-4eee-bdd0-0921247dda23",
   "metadata": {},
   "outputs": [],
   "source": [
    "# Sicherstellen, dass gdf_merged ein GeoDataFrame ist\n",
    "gdf_merged = gpd.GeoDataFrame(gdf_merged, geometry='geometry')\n",
    "\n",
    "# Speichern des kombinierten GeoDataFrames in eine neue GeoJSON-Datei\n",
    "gdf_merged.to_file('data/trees_with_oids.geojson', driver='GeoJSON')"
   ]
  }
 ],
 "metadata": {
  "kernelspec": {
   "display_name": "Python 3 (ipykernel)",
   "language": "python",
   "name": "python3"
  },
  "language_info": {
   "codemirror_mode": {
    "name": "ipython",
    "version": 3
   },
   "file_extension": ".py",
   "mimetype": "text/x-python",
   "name": "python",
   "nbconvert_exporter": "python",
   "pygments_lexer": "ipython3",
   "version": "3.12.3"
  }
 },
 "nbformat": 4,
 "nbformat_minor": 5
}
