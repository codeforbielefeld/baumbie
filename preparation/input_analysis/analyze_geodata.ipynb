{
 "cells": [
  {
   "cell_type": "markdown",
   "metadata": {},
   "source": [
    "# Übersicht\n",
    "\n",
    "Dieses Notebook führt eine Analyse und Bereinigung von Geodaten durch, die in einer GeoJSON-Datei gespeichert sind."
   ]
  },
  {
   "cell_type": "markdown",
   "metadata": {},
   "source": [
    "### Nutzung von Jupyter Notebooks in Visual Studio Code\n",
    "\n",
    "Um die `venv` - Umgebung als neuen Kernel in VS Code hinzuzufügen, bitte in deiner aktivierten Umgebung ausführen:\n",
    "\n",
    "```\n",
    "python -m ipykernel install --user --name=venv --display-name \"Python (venv)\"\n",
    "```\n",
    "\n",
    "Danach solltest du im VS Code Interface diesen neuen Kernel auswählen können."
   ]
  },
  {
   "cell_type": "markdown",
   "metadata": {},
   "source": [
    "### Benötigte Bibliotheken importieren"
   ]
  },
  {
   "cell_type": "code",
   "execution_count": null,
   "metadata": {},
   "outputs": [],
   "source": [
    "import geopandas as gpd\n",
    "import os"
   ]
  },
  {
   "cell_type": "markdown",
   "metadata": {},
   "source": [
    "### Laden der GeoJSON-Daten in ein GeoDataFrame"
   ]
  },
  {
   "cell_type": "markdown",
   "metadata": {},
   "source": [
    "**Annahme:** Die zu analysierende GeoJSON-Datei liegt in `../input` und wurde als `trees.geojson` benannt.\n"
   ]
  },
  {
   "cell_type": "code",
   "execution_count": null,
   "metadata": {},
   "outputs": [],
   "source": [
    "# Basispfad zum aktuellen Ordner (`data_analysis`)\n",
    "BASE_DIR = os.getcwd()\n",
    "\n",
    "# Pfad zur GeoJSON-Datei im 'data'-Ordner\n",
    "DATA_DIR = os.path.abspath(os.path.join(BASE_DIR, '..', 'input'))\n",
    "DATA_PATH = os.path.join(DATA_DIR, 'trees.geojson')\n",
    "print(DATA_PATH)"
   ]
  },
  {
   "cell_type": "code",
   "execution_count": null,
   "metadata": {},
   "outputs": [],
   "source": [
    "# Laden der GeoJSON-Daten in ein GeoDataFrame\n",
    "gdf = gpd.read_file(DATA_PATH)\n",
    "\n",
    "# Anzeigen der ersten fünf Zeilen des GeoDataFrame\n",
    "gdf.head()"
   ]
  },
  {
   "cell_type": "markdown",
   "metadata": {},
   "source": [
    "### Analysiere die Koordinaten, um Outlier bei den X- und Y-Werten zu finden"
   ]
  },
  {
   "cell_type": "code",
   "execution_count": null,
   "metadata": {},
   "outputs": [],
   "source": [
    "# Extrahiere die Koordinaten aus der GeoDataFrame\n",
    "x_values = gdf.geometry.x\n",
    "y_values = gdf.geometry.y\n",
    "\n",
    "# Berechne deskriptive Statistik für die X- und Y-Koordinaten\n",
    "x_stats = x_values.describe()\n",
    "y_stats = y_values.describe()\n",
    "\n",
    "print(\"Deskriptive Statistik für X-Koordinaten:\")\n",
    "print(x_stats)\n",
    "print(\"\\nDeskriptive Statistik für Y-Koordinaten:\")\n",
    "print(y_stats)"
   ]
  },
  {
   "cell_type": "markdown",
   "metadata": {},
   "source": [
    "Sieht soweit alles gut aus! "
   ]
  },
  {
   "cell_type": "code",
   "execution_count": null,
   "metadata": {},
   "outputs": [],
   "source": [
    "# # Anzeigen der ersten 5 niedrigsten X-Werte\n",
    "# lowest_x_values = x_values.nsmallest(5)\n",
    "# print(\"Erste 5 niedrigste X-Werte:\")\n",
    "# print(lowest_x_values)\n",
    "\n",
    "# # Anzeigen der ersten 5 niedrigsten Y-Werte\n",
    "# lowest_y_values = y_values.nsmallest(5)\n",
    "# print(\"\\nErste 5 niedrigste Y-Werte:\")\n",
    "# print(lowest_y_values)\n"
   ]
  },
  {
   "cell_type": "markdown",
   "metadata": {},
   "source": [
    "### Bereinigung von fehlerhaften Werten in den X- und Y-Koordinaten\n"
   ]
  },
  {
   "cell_type": "code",
   "execution_count": null,
   "metadata": {},
   "outputs": [],
   "source": [
    "# # Entfernen von fehlerhaften Werten in den X- und Y-Koordinaten\n",
    "# valid_x_values = x_values[x_values > 0]\n",
    "# valid_y_values = y_values[y_values > 0]\n",
    "\n",
    "# # Berechne deskriptive Statistik für die bereinigten X- und Y-Koordinaten\n",
    "# valid_x_stats = valid_x_values.describe()\n",
    "# valid_y_stats = valid_y_values.describe()\n",
    "\n",
    "# print(\"Deskriptive Statistik für X-Koordinaten:\")\n",
    "# print(valid_x_stats)\n",
    "# print(\"\\nDeskriptive Statistik für Y-Koordinaten:\")\n",
    "# print(valid_y_stats)"
   ]
  },
  {
   "cell_type": "code",
   "execution_count": null,
   "metadata": {},
   "outputs": [],
   "source": [
    "# # Erstelle Histogramme für die bereinigten X- und Y-Koordinaten\n",
    "# fig, ax = plt.subplots(1, 2, figsize=(14, 6))\n",
    "\n",
    "# ax[0].hist(valid_x_values, bins=100, color='blue', edgecolor='black')\n",
    "# ax[0].set_title('Verteilung der X-Koordinaten (bereinigt)')\n",
    "# ax[0].set_xlabel('X-Koordinaten')\n",
    "# ax[0].set_ylabel('Häufigkeit')\n",
    "\n",
    "# ax[1].hist(valid_y_values, bins=100, color='green', edgecolor='black')\n",
    "# ax[1].set_title('Verteilung der Y-Koordinaten (bereinigt)')\n",
    "# ax[1].set_xlabel('Y-Koordinaten')\n",
    "# ax[1].set_ylabel('Häufigkeit')\n",
    "\n",
    "# plt.tight_layout()\n",
    "# plt.show()"
   ]
  },
  {
   "cell_type": "markdown",
   "metadata": {},
   "source": [
    "### Speichern der bereinigten Daten in einer neuen GeoJSON-Datei"
   ]
  },
  {
   "cell_type": "code",
   "execution_count": null,
   "metadata": {},
   "outputs": [],
   "source": [
    "# # Erstellen einer Kopie des ursprünglichen GeoDataFrames\n",
    "# gdf_cleaned = gdf.copy()\n",
    "\n",
    "# # Entfernen von Zeilen mit fehlerhaften X- oder Y-Werten\n",
    "# gdf_cleaned = gdf_cleaned[(gdf_cleaned.geometry.x > 0) & (gdf_cleaned.geometry.y > 0)]\n",
    "\n",
    "# # Definieren des Pfads für die neue GeoJSON-Datei\n",
    "# cleaned_data_path = os.path.join(DATA_DIR, 'trees_cleaned.geojson')\n",
    "\n",
    "# # Speichern des bereinigten GeoDataFrames als neue GeoJSON-Datei\n",
    "# gdf_cleaned.to_file(cleaned_data_path, driver='GeoJSON')"
   ]
  }
 ],
 "metadata": {
  "kernelspec": {
   "display_name": "Python 3",
   "language": "python",
   "name": "python3"
  },
  "language_info": {
   "codemirror_mode": {
    "name": "ipython",
    "version": 3
   },
   "file_extension": ".py",
   "mimetype": "text/x-python",
   "name": "python",
   "nbconvert_exporter": "python",
   "pygments_lexer": "ipython3",
   "version": "3.12.5"
  }
 },
 "nbformat": 4,
 "nbformat_minor": 2
}
